{
 "cells": [
  {
   "cell_type": "code",
   "execution_count": null,
   "metadata": {},
   "outputs": [],
   "source": [
    "import tensorflow as tf\n",
    "import pandas as pd\n",
    "import numpy as np\n",
    "from time import gmtime, strftime"
   ]
  },
  {
   "cell_type": "code",
   "execution_count": 48,
   "metadata": {},
   "outputs": [],
   "source": [
    "df_train = pd.read_csv('train_V2.csv')\n",
    "df_test = pd.read_csv('test_V2_.csv')"
   ]
  },
  {
   "cell_type": "code",
   "execution_count": 19,
   "metadata": {},
   "outputs": [
    {
     "data": {
      "text/plain": [
       "RangeIndex(start=0, stop=4446966, step=1)"
      ]
     },
     "execution_count": 19,
     "metadata": {},
     "output_type": "execute_result"
    }
   ],
   "source": [
    "df_rand = df_train.reindex(np.random.permutation(df_train.index))"
   ]
  },
  {
   "cell_type": "code",
   "execution_count": 20,
   "metadata": {},
   "outputs": [],
   "source": [
    "df_rand2 = df_train.reindex()\n",
    "#df_rand2.head()"
   ]
  },
  {
   "cell_type": "code",
   "execution_count": 22,
   "metadata": {},
   "outputs": [
    {
     "data": {
      "text/html": [
       "<div>\n",
       "<style scoped>\n",
       "    .dataframe tbody tr th:only-of-type {\n",
       "        vertical-align: middle;\n",
       "    }\n",
       "\n",
       "    .dataframe tbody tr th {\n",
       "        vertical-align: top;\n",
       "    }\n",
       "\n",
       "    .dataframe thead th {\n",
       "        text-align: right;\n",
       "    }\n",
       "</style>\n",
       "<table border=\"1\" class=\"dataframe\">\n",
       "  <thead>\n",
       "    <tr style=\"text-align: right;\">\n",
       "      <th></th>\n",
       "      <th>Id</th>\n",
       "      <th>groupId</th>\n",
       "      <th>matchId</th>\n",
       "      <th>assists</th>\n",
       "      <th>boosts</th>\n",
       "      <th>damageDealt</th>\n",
       "      <th>DBNOs</th>\n",
       "      <th>headshotKills</th>\n",
       "      <th>heals</th>\n",
       "      <th>killPlace</th>\n",
       "      <th>...</th>\n",
       "      <th>revives</th>\n",
       "      <th>rideDistance</th>\n",
       "      <th>roadKills</th>\n",
       "      <th>swimDistance</th>\n",
       "      <th>teamKills</th>\n",
       "      <th>vehicleDestroys</th>\n",
       "      <th>walkDistance</th>\n",
       "      <th>weaponsAcquired</th>\n",
       "      <th>winPoints</th>\n",
       "      <th>winPlacePerc</th>\n",
       "    </tr>\n",
       "  </thead>\n",
       "  <tbody>\n",
       "    <tr>\n",
       "      <th>2725960</th>\n",
       "      <td>33b8a88f4e92ec</td>\n",
       "      <td>9cad9c9ece46a4</td>\n",
       "      <td>ae30ae0cb80bc4</td>\n",
       "      <td>0</td>\n",
       "      <td>0</td>\n",
       "      <td>100.00</td>\n",
       "      <td>0</td>\n",
       "      <td>1</td>\n",
       "      <td>0</td>\n",
       "      <td>36</td>\n",
       "      <td>...</td>\n",
       "      <td>0</td>\n",
       "      <td>0.0</td>\n",
       "      <td>0</td>\n",
       "      <td>0.0</td>\n",
       "      <td>0</td>\n",
       "      <td>0</td>\n",
       "      <td>297.70</td>\n",
       "      <td>3</td>\n",
       "      <td>1401</td>\n",
       "      <td>0.2737</td>\n",
       "    </tr>\n",
       "    <tr>\n",
       "      <th>3719340</th>\n",
       "      <td>22af2bf0eaf6cc</td>\n",
       "      <td>4bb3adc78d470f</td>\n",
       "      <td>2ecbc5f1944250</td>\n",
       "      <td>0</td>\n",
       "      <td>0</td>\n",
       "      <td>100.00</td>\n",
       "      <td>0</td>\n",
       "      <td>0</td>\n",
       "      <td>0</td>\n",
       "      <td>38</td>\n",
       "      <td>...</td>\n",
       "      <td>0</td>\n",
       "      <td>0.0</td>\n",
       "      <td>0</td>\n",
       "      <td>0.0</td>\n",
       "      <td>0</td>\n",
       "      <td>0</td>\n",
       "      <td>14.84</td>\n",
       "      <td>2</td>\n",
       "      <td>1500</td>\n",
       "      <td>0.0737</td>\n",
       "    </tr>\n",
       "    <tr>\n",
       "      <th>390514</th>\n",
       "      <td>4fcd7263f1a5b2</td>\n",
       "      <td>6db90df573c056</td>\n",
       "      <td>4d2fa6d12a1d8d</td>\n",
       "      <td>0</td>\n",
       "      <td>0</td>\n",
       "      <td>0.00</td>\n",
       "      <td>0</td>\n",
       "      <td>0</td>\n",
       "      <td>0</td>\n",
       "      <td>72</td>\n",
       "      <td>...</td>\n",
       "      <td>0</td>\n",
       "      <td>0.0</td>\n",
       "      <td>0</td>\n",
       "      <td>0.0</td>\n",
       "      <td>0</td>\n",
       "      <td>0</td>\n",
       "      <td>622.10</td>\n",
       "      <td>4</td>\n",
       "      <td>0</td>\n",
       "      <td>0.2963</td>\n",
       "    </tr>\n",
       "    <tr>\n",
       "      <th>552556</th>\n",
       "      <td>370ecaab859e90</td>\n",
       "      <td>e4d8091ccb0edd</td>\n",
       "      <td>f92a421c353eb7</td>\n",
       "      <td>1</td>\n",
       "      <td>2</td>\n",
       "      <td>182.60</td>\n",
       "      <td>0</td>\n",
       "      <td>0</td>\n",
       "      <td>5</td>\n",
       "      <td>27</td>\n",
       "      <td>...</td>\n",
       "      <td>2</td>\n",
       "      <td>0.0</td>\n",
       "      <td>0</td>\n",
       "      <td>0.0</td>\n",
       "      <td>0</td>\n",
       "      <td>0</td>\n",
       "      <td>2843.00</td>\n",
       "      <td>6</td>\n",
       "      <td>0</td>\n",
       "      <td>0.9259</td>\n",
       "    </tr>\n",
       "    <tr>\n",
       "      <th>3953273</th>\n",
       "      <td>69e58cfeb70ef7</td>\n",
       "      <td>7f2e2e9e91e66a</td>\n",
       "      <td>04c2ca01110d5f</td>\n",
       "      <td>0</td>\n",
       "      <td>0</td>\n",
       "      <td>65.59</td>\n",
       "      <td>0</td>\n",
       "      <td>0</td>\n",
       "      <td>2</td>\n",
       "      <td>57</td>\n",
       "      <td>...</td>\n",
       "      <td>0</td>\n",
       "      <td>4718.0</td>\n",
       "      <td>0</td>\n",
       "      <td>0.0</td>\n",
       "      <td>0</td>\n",
       "      <td>0</td>\n",
       "      <td>943.80</td>\n",
       "      <td>6</td>\n",
       "      <td>1568</td>\n",
       "      <td>0.4074</td>\n",
       "    </tr>\n",
       "  </tbody>\n",
       "</table>\n",
       "<p>5 rows × 29 columns</p>\n",
       "</div>"
      ],
      "text/plain": [
       "                     Id         groupId         matchId  assists  boosts  \\\n",
       "2725960  33b8a88f4e92ec  9cad9c9ece46a4  ae30ae0cb80bc4        0       0   \n",
       "3719340  22af2bf0eaf6cc  4bb3adc78d470f  2ecbc5f1944250        0       0   \n",
       "390514   4fcd7263f1a5b2  6db90df573c056  4d2fa6d12a1d8d        0       0   \n",
       "552556   370ecaab859e90  e4d8091ccb0edd  f92a421c353eb7        1       2   \n",
       "3953273  69e58cfeb70ef7  7f2e2e9e91e66a  04c2ca01110d5f        0       0   \n",
       "\n",
       "         damageDealt  DBNOs  headshotKills  heals  killPlace      ...       \\\n",
       "2725960       100.00      0              1      0         36      ...        \n",
       "3719340       100.00      0              0      0         38      ...        \n",
       "390514          0.00      0              0      0         72      ...        \n",
       "552556        182.60      0              0      5         27      ...        \n",
       "3953273        65.59      0              0      2         57      ...        \n",
       "\n",
       "         revives  rideDistance  roadKills  swimDistance  teamKills  \\\n",
       "2725960        0           0.0          0           0.0          0   \n",
       "3719340        0           0.0          0           0.0          0   \n",
       "390514         0           0.0          0           0.0          0   \n",
       "552556         2           0.0          0           0.0          0   \n",
       "3953273        0        4718.0          0           0.0          0   \n",
       "\n",
       "        vehicleDestroys  walkDistance  weaponsAcquired  winPoints  \\\n",
       "2725960               0        297.70                3       1401   \n",
       "3719340               0         14.84                2       1500   \n",
       "390514                0        622.10                4          0   \n",
       "552556                0       2843.00                6          0   \n",
       "3953273               0        943.80                6       1568   \n",
       "\n",
       "         winPlacePerc  \n",
       "2725960        0.2737  \n",
       "3719340        0.0737  \n",
       "390514         0.2963  \n",
       "552556         0.9259  \n",
       "3953273        0.4074  \n",
       "\n",
       "[5 rows x 29 columns]"
      ]
     },
     "execution_count": 22,
     "metadata": {},
     "output_type": "execute_result"
    }
   ],
   "source": [
    "df_rand3 = df_train.reindex(np.random.permutation(df_train.shape[0]))\n",
    "df_rand3.head()"
   ]
  },
  {
   "cell_type": "markdown",
   "metadata": {},
   "source": [
    "### Preprocess the data for training, validation and testing"
   ]
  },
  {
   "cell_type": "code",
   "execution_count": null,
   "metadata": {},
   "outputs": [],
   "source": [
    "X_train = df_rand3[['killPlace', 'walkDistance']].head(4000000)\n",
    "Y_train = df_rand3[['winPlacePerc']].head(4000000)\n",
    "X_val = df_rand3[['killPlace', 'walkDistance']].tail(446966)\n",
    "Y_val = df_rand3[['winPlacePerc']].tail(446966)\n",
    "X_test = df_test[['killPlace', 'walkDistance']]"
   ]
  },
  {
   "cell_type": "markdown",
   "metadata": {},
   "source": [
    "### Create the feature columns"
   ]
  },
  {
   "cell_type": "code",
   "execution_count": 173,
   "metadata": {},
   "outputs": [],
   "source": [
    "#help(tf.feature_column.numeric_column)"
   ]
  },
  {
   "cell_type": "code",
   "execution_count": 70,
   "metadata": {},
   "outputs": [],
   "source": [
    "killPlace_feat_col = tf.feature_column.numeric_column(key='killPlace')\n",
    "walkDist_feat_col = tf.feature_column.numeric_column(key='walkDistance')\n",
    "feat_cols = set([killPlace_ft_col, walkDist_ft_col])"
   ]
  },
  {
   "cell_type": "code",
   "execution_count": 71,
   "metadata": {},
   "outputs": [
    {
     "data": {
      "text/plain": [
       "{NumericColumn(key='killPlace', shape=(1,), default_value=None, dtype=tf.float32, normalizer_fn=None),\n",
       " NumericColumn(key='walkDistance', shape=(1,), default_value=None, dtype=tf.float32, normalizer_fn=None)}"
      ]
     },
     "execution_count": 71,
     "metadata": {},
     "output_type": "execute_result"
    }
   ],
   "source": [
    "feat_cols"
   ]
  },
  {
   "cell_type": "markdown",
   "metadata": {},
   "source": [
    "### Input Functions"
   ]
  },
  {
   "cell_type": "code",
   "execution_count": 1,
   "metadata": {},
   "outputs": [],
   "source": [
    "#X_train.head()"
   ]
  },
  {
   "cell_type": "code",
   "execution_count": 161,
   "metadata": {},
   "outputs": [],
   "source": [
    "X_np_train = np.array(X_train)\n",
    "#X_np_train[:,0]"
   ]
  },
  {
   "cell_type": "code",
   "execution_count": 3,
   "metadata": {},
   "outputs": [
    {
     "ename": "NameError",
     "evalue": "name 'np' is not defined",
     "output_type": "error",
     "traceback": [
      "\u001b[0;31m---------------------------------------------------------------------------\u001b[0m",
      "\u001b[0;31mNameError\u001b[0m                                 Traceback (most recent call last)",
      "\u001b[0;32m<ipython-input-3-ce3b905f0eb0>\u001b[0m in \u001b[0;36m<module>\u001b[0;34m()\u001b[0m\n\u001b[0;32m----> 1\u001b[0;31m \u001b[0mhelp\u001b[0m\u001b[0;34m(\u001b[0m\u001b[0mnp\u001b[0m\u001b[0;34m.\u001b[0m\u001b[0marray\u001b[0m\u001b[0;34m)\u001b[0m\u001b[0;34m\u001b[0m\u001b[0;34m\u001b[0m\u001b[0m\n\u001b[0m",
      "\u001b[0;31mNameError\u001b[0m: name 'np' is not defined"
     ]
    }
   ],
   "source": [
    "help(np.array)"
   ]
  },
  {
   "cell_type": "markdown",
   "metadata": {},
   "source": [
    "There is only 2 arguments that are neccesary in numpy_input_fn\n",
    "numpy_input_fn"
   ]
  },
  {
   "cell_type": "code",
   "execution_count": 126,
   "metadata": {},
   "outputs": [],
   "source": [
    "x = {'killPlace': X_np_train[:,0], 'walkDistance': X_np_train[:,1]}\n",
    "train_input_fn = tf.estimator.inputs.numpy_input_fn(\n",
    "    x=x,\n",
    "    y=np.array(Y_train),\n",
    "    num_epochs=None,\n",
    "    shuffle=True)\n",
    "#num_epochs determines what? the passes that I do along the data?\n",
    "# if we set num_epochs to none it allows us to read as much data as we can from this input fn?\n",
    "# shuffle randomizes the data"
   ]
  },
  {
   "cell_type": "code",
   "execution_count": 163,
   "metadata": {},
   "outputs": [],
   "source": [
    "#train_input_fn()"
   ]
  },
  {
   "cell_type": "code",
   "execution_count": 164,
   "metadata": {},
   "outputs": [],
   "source": [
    "X_val_np = np.array(X_val)\n",
    "#X_val_np = X_val.values\n",
    "#X_val_np"
   ]
  },
  {
   "cell_type": "code",
   "execution_count": 147,
   "metadata": {},
   "outputs": [],
   "source": [
    "x_val_in = {'killPlace': X_val_np[:,0], 'walkDistance': X_val_np[:,1]}\n",
    "val_input_fn = tf.estimator.inputs.numpy_input_fn(\n",
    "    x=x_val_in,\n",
    "    y=np.array(Y_val),\n",
    "    num_epochs=1,\n",
    "    shuffle=False)"
   ]
  },
  {
   "cell_type": "code",
   "execution_count": 165,
   "metadata": {},
   "outputs": [],
   "source": [
    "#val_input_fn()"
   ]
  },
  {
   "cell_type": "code",
   "execution_count": 166,
   "metadata": {},
   "outputs": [],
   "source": [
    "#help(tf.estimator.inputs.numpy_input_fn)"
   ]
  },
  {
   "cell_type": "code",
   "execution_count": 132,
   "metadata": {},
   "outputs": [],
   "source": [
    "pred_input_fn = tf.estimator.inputs.numpy_input_fn(\n",
    "    x=x,\n",
    "    shuffle=False)"
   ]
  },
  {
   "cell_type": "code",
   "execution_count": 172,
   "metadata": {},
   "outputs": [],
   "source": [
    "#help(tf.estimator.DNNRegressor)"
   ]
  },
  {
   "cell_type": "code",
   "execution_count": 170,
   "metadata": {},
   "outputs": [
    {
     "name": "stdout",
     "output_type": "stream",
     "text": [
      "INFO:tensorflow:Using default config.\n",
      "INFO:tensorflow:Using config: {'_model_dir': './logs/Sun_10_Mar_2019_23:01', '_tf_random_seed': None, '_save_summary_steps': 100, '_save_checkpoints_steps': None, '_save_checkpoints_secs': 600, '_session_config': allow_soft_placement: true\n",
      "graph_options {\n",
      "  rewrite_options {\n",
      "    meta_optimizer_iterations: ONE\n",
      "  }\n",
      "}\n",
      ", '_keep_checkpoint_max': 5, '_keep_checkpoint_every_n_hours': 10000, '_log_step_count_steps': 100, '_train_distribute': None, '_device_fn': None, '_protocol': None, '_eval_distribute': None, '_experimental_distribute': None, '_service': None, '_cluster_spec': <tensorflow.python.training.server_lib.ClusterSpec object at 0x7f46a27652e8>, '_task_type': 'worker', '_task_id': 0, '_global_id_in_cluster': 0, '_master': '', '_evaluation_master': '', '_is_chief': True, '_num_ps_replicas': 0, '_num_worker_replicas': 1}\n"
     ]
    }
   ],
   "source": [
    "s = strftime(\"%a_%d_%b_%Y_%H:%M\", gmtime())\n",
    "regressor = tf.estimator.DNNRegressor(\n",
    "    feature_columns=[killPlace_feat_col, walkDist_feat_col],\n",
    "    hidden_units=[256],\n",
    "    model_dir='./logs/'+s,\n",
    "    optimizer=tf.train.ProximalAdagradOptimizer(\n",
    "        learning_rate=0.1,\n",
    "        l1_regularization_strength=0.001\n",
    "    )\n",
    ")"
   ]
  },
  {
   "cell_type": "code",
   "execution_count": 171,
   "metadata": {},
   "outputs": [
    {
     "name": "stdout",
     "output_type": "stream",
     "text": [
      "INFO:tensorflow:Calling model_fn.\n",
      "INFO:tensorflow:Done calling model_fn.\n",
      "INFO:tensorflow:Create CheckpointSaverHook.\n",
      "INFO:tensorflow:Graph was finalized.\n",
      "INFO:tensorflow:Running local_init_op.\n",
      "INFO:tensorflow:Done running local_init_op.\n",
      "INFO:tensorflow:Saving checkpoints for 0 into ./logs/Sun_10_Mar_2019_23:01/model.ckpt.\n",
      "INFO:tensorflow:loss = 19268.635, step = 1\n",
      "INFO:tensorflow:global_step/sec: 839.749\n",
      "INFO:tensorflow:loss = 95.056366, step = 101 (0.119 sec)\n",
      "INFO:tensorflow:global_step/sec: 1133.63\n",
      "INFO:tensorflow:loss = 34.888092, step = 201 (0.088 sec)\n",
      "INFO:tensorflow:global_step/sec: 982.174\n",
      "INFO:tensorflow:loss = 21.026945, step = 301 (0.102 sec)\n",
      "INFO:tensorflow:global_step/sec: 999.474\n",
      "INFO:tensorflow:loss = 20.778072, step = 401 (0.100 sec)\n",
      "INFO:tensorflow:global_step/sec: 1077.55\n",
      "INFO:tensorflow:loss = 12.196705, step = 501 (0.093 sec)\n",
      "INFO:tensorflow:global_step/sec: 979.033\n",
      "INFO:tensorflow:loss = 16.695892, step = 601 (0.102 sec)\n",
      "INFO:tensorflow:global_step/sec: 934.499\n",
      "INFO:tensorflow:loss = 12.620909, step = 701 (0.107 sec)\n",
      "INFO:tensorflow:global_step/sec: 1100.05\n",
      "INFO:tensorflow:loss = 10.015806, step = 801 (0.091 sec)\n",
      "INFO:tensorflow:global_step/sec: 973.317\n",
      "INFO:tensorflow:loss = 13.866701, step = 901 (0.102 sec)\n",
      "INFO:tensorflow:Saving checkpoints for 1000 into ./logs/Sun_10_Mar_2019_23:01/model.ckpt.\n",
      "INFO:tensorflow:Loss for final step: 13.457821.\n"
     ]
    },
    {
     "data": {
      "text/plain": [
       "<tensorflow_estimator.python.estimator.canned.dnn.DNNRegressor at 0x7f46a2765550>"
      ]
     },
     "execution_count": 171,
     "metadata": {},
     "output_type": "execute_result"
    }
   ],
   "source": [
    "for i in range(10)\n",
    "    regressor.train(\n",
    "        input_fn=train_input_fn,\n",
    "        steps=1000\n",
    "    )\n",
    "    regressor.evaluate(\n",
    "        input_fn=\n",
    "    )"
   ]
  },
  {
   "cell_type": "code",
   "execution_count": 64,
   "metadata": {},
   "outputs": [
    {
     "name": "stdout",
     "output_type": "stream",
     "text": [
      "Help on function train in module tensorflow_estimator.python.estimator.estimator:\n",
      "\n",
      "train(self, input_fn, hooks=None, steps=None, max_steps=None, saving_listeners=None)\n",
      "    Trains a model given training data `input_fn`.\n",
      "    \n",
      "    Args:\n",
      "      input_fn: A function that provides input data for training as minibatches.\n",
      "        See [Premade Estimators](\n",
      "        https://tensorflow.org/guide/premade_estimators#create_input_functions)\n",
      "        for more information. The function should construct and return one of\n",
      "        the following:  * A\n",
      "        `tf.data.Dataset` object: Outputs of `Dataset` object must be a tuple\n",
      "        `(features, labels)` with same constraints as below. * A tuple\n",
      "        `(features, labels)`: Where `features` is a `tf.Tensor` or a dictionary\n",
      "        of string feature name to `Tensor` and `labels` is a `Tensor` or a\n",
      "        dictionary of string label name to `Tensor`. Both `features` and\n",
      "        `labels` are consumed by `model_fn`. They should satisfy the expectation\n",
      "        of `model_fn` from inputs.\n",
      "      hooks: List of `tf.train.SessionRunHook` subclass instances. Used for\n",
      "        callbacks inside the training loop.\n",
      "      steps: Number of steps for which to train the model. If `None`, train\n",
      "        forever or train until `input_fn` generates the `tf.errors.OutOfRange`\n",
      "        error or `StopIteration` exception. `steps` works incrementally. If you\n",
      "        call two times `train(steps=10)` then training occurs in total 20 steps.\n",
      "        If `OutOfRange` or `StopIteration` occurs in the middle, training stops\n",
      "        before 20 steps. If you don't want to have incremental behavior please\n",
      "        set `max_steps` instead. If set, `max_steps` must be `None`.\n",
      "      max_steps: Number of total steps for which to train model. If `None`,\n",
      "        train forever or train until `input_fn` generates the\n",
      "        `tf.errors.OutOfRange` error or `StopIteration` exception. If set,\n",
      "        `steps` must be `None`. If `OutOfRange` or `StopIteration` occurs in the\n",
      "        middle, training stops before `max_steps` steps. Two calls to\n",
      "        `train(steps=100)` means 200 training iterations. On the other hand, two\n",
      "        calls to `train(max_steps=100)` means that the second call will not do\n",
      "        any iteration since first call did all 100 steps.\n",
      "      saving_listeners: list of `CheckpointSaverListener` objects. Used for\n",
      "        callbacks that run immediately before or after checkpoint savings.\n",
      "    \n",
      "    Returns:\n",
      "      `self`, for chaining.\n",
      "    \n",
      "    Raises:\n",
      "      ValueError: If both `steps` and `max_steps` are not `None`.\n",
      "      ValueError: If either `steps` or `max_steps <= 0`.\n",
      "\n"
     ]
    }
   ],
   "source": [
    "help(tf.estimator.DNNRegressor.train)"
   ]
  },
  {
   "cell_type": "code",
   "execution_count": null,
   "metadata": {},
   "outputs": [],
   "source": []
  }
 ],
 "metadata": {
  "kernelspec": {
   "display_name": "Python 3",
   "language": "python",
   "name": "python3"
  },
  "language_info": {
   "codemirror_mode": {
    "name": "ipython",
    "version": 3
   },
   "file_extension": ".py",
   "mimetype": "text/x-python",
   "name": "python",
   "nbconvert_exporter": "python",
   "pygments_lexer": "ipython3",
   "version": "3.6.8"
  }
 },
 "nbformat": 4,
 "nbformat_minor": 2
}
