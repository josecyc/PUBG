{
 "cells": [
  {
   "cell_type": "code",
   "execution_count": 1,
   "metadata": {},
   "outputs": [],
   "source": [
    "import tensorflow as tf\n",
    "import pandas as pd\n",
    "import numpy as np\n",
    "from time import gmtime, strftime"
   ]
  },
  {
   "cell_type": "code",
   "execution_count": 8,
   "metadata": {},
   "outputs": [],
   "source": [
    "df_train = pd.read_csv('train_V2.csv')\n",
    "df_test = pd.read_csv('test_V2.csv')"
   ]
  },
  {
   "cell_type": "code",
   "execution_count": 9,
   "metadata": {},
   "outputs": [],
   "source": [
    "df_rand = df_train.reindex(np.random.permutation(df_train.index))"
   ]
  },
  {
   "cell_type": "code",
   "execution_count": 10,
   "metadata": {},
   "outputs": [],
   "source": [
    "df_rand2 = df_train.reindex()\n",
    "#df_rand2.head()"
   ]
  },
  {
   "cell_type": "code",
   "execution_count": 11,
   "metadata": {},
   "outputs": [
    {
     "data": {
      "text/html": [
       "<div>\n",
       "<style scoped>\n",
       "    .dataframe tbody tr th:only-of-type {\n",
       "        vertical-align: middle;\n",
       "    }\n",
       "\n",
       "    .dataframe tbody tr th {\n",
       "        vertical-align: top;\n",
       "    }\n",
       "\n",
       "    .dataframe thead th {\n",
       "        text-align: right;\n",
       "    }\n",
       "</style>\n",
       "<table border=\"1\" class=\"dataframe\">\n",
       "  <thead>\n",
       "    <tr style=\"text-align: right;\">\n",
       "      <th></th>\n",
       "      <th>Id</th>\n",
       "      <th>groupId</th>\n",
       "      <th>matchId</th>\n",
       "      <th>assists</th>\n",
       "      <th>boosts</th>\n",
       "      <th>damageDealt</th>\n",
       "      <th>DBNOs</th>\n",
       "      <th>headshotKills</th>\n",
       "      <th>heals</th>\n",
       "      <th>killPlace</th>\n",
       "      <th>...</th>\n",
       "      <th>revives</th>\n",
       "      <th>rideDistance</th>\n",
       "      <th>roadKills</th>\n",
       "      <th>swimDistance</th>\n",
       "      <th>teamKills</th>\n",
       "      <th>vehicleDestroys</th>\n",
       "      <th>walkDistance</th>\n",
       "      <th>weaponsAcquired</th>\n",
       "      <th>winPoints</th>\n",
       "      <th>winPlacePerc</th>\n",
       "    </tr>\n",
       "  </thead>\n",
       "  <tbody>\n",
       "    <tr>\n",
       "      <th>714128</th>\n",
       "      <td>2c1cc480990920</td>\n",
       "      <td>70d4154d5216db</td>\n",
       "      <td>195c5bd37a85dc</td>\n",
       "      <td>0</td>\n",
       "      <td>0</td>\n",
       "      <td>0.00</td>\n",
       "      <td>0</td>\n",
       "      <td>0</td>\n",
       "      <td>0</td>\n",
       "      <td>74</td>\n",
       "      <td>...</td>\n",
       "      <td>0</td>\n",
       "      <td>0.0</td>\n",
       "      <td>0</td>\n",
       "      <td>0.0</td>\n",
       "      <td>1</td>\n",
       "      <td>0</td>\n",
       "      <td>784.7</td>\n",
       "      <td>4</td>\n",
       "      <td>0</td>\n",
       "      <td>0.2222</td>\n",
       "    </tr>\n",
       "    <tr>\n",
       "      <th>199973</th>\n",
       "      <td>c989c734b439d1</td>\n",
       "      <td>a8f84ddd3ee9eb</td>\n",
       "      <td>5845919df05838</td>\n",
       "      <td>0</td>\n",
       "      <td>0</td>\n",
       "      <td>233.60</td>\n",
       "      <td>3</td>\n",
       "      <td>0</td>\n",
       "      <td>0</td>\n",
       "      <td>26</td>\n",
       "      <td>...</td>\n",
       "      <td>0</td>\n",
       "      <td>0.0</td>\n",
       "      <td>0</td>\n",
       "      <td>0.0</td>\n",
       "      <td>0</td>\n",
       "      <td>0</td>\n",
       "      <td>292.0</td>\n",
       "      <td>1</td>\n",
       "      <td>0</td>\n",
       "      <td>0.3200</td>\n",
       "    </tr>\n",
       "    <tr>\n",
       "      <th>4105138</th>\n",
       "      <td>ce86cce2206073</td>\n",
       "      <td>04748c80d36d1f</td>\n",
       "      <td>a7e407dde9f3db</td>\n",
       "      <td>0</td>\n",
       "      <td>0</td>\n",
       "      <td>0.00</td>\n",
       "      <td>0</td>\n",
       "      <td>0</td>\n",
       "      <td>0</td>\n",
       "      <td>55</td>\n",
       "      <td>...</td>\n",
       "      <td>0</td>\n",
       "      <td>0.0</td>\n",
       "      <td>0</td>\n",
       "      <td>0.0</td>\n",
       "      <td>0</td>\n",
       "      <td>0</td>\n",
       "      <td>1938.0</td>\n",
       "      <td>4</td>\n",
       "      <td>0</td>\n",
       "      <td>0.5517</td>\n",
       "    </tr>\n",
       "    <tr>\n",
       "      <th>3747925</th>\n",
       "      <td>ef75f2f1595316</td>\n",
       "      <td>85aab146f0ec7a</td>\n",
       "      <td>959aa80e79df42</td>\n",
       "      <td>2</td>\n",
       "      <td>5</td>\n",
       "      <td>254.80</td>\n",
       "      <td>1</td>\n",
       "      <td>1</td>\n",
       "      <td>2</td>\n",
       "      <td>28</td>\n",
       "      <td>...</td>\n",
       "      <td>1</td>\n",
       "      <td>2282.0</td>\n",
       "      <td>0</td>\n",
       "      <td>0.0</td>\n",
       "      <td>0</td>\n",
       "      <td>0</td>\n",
       "      <td>4361.0</td>\n",
       "      <td>8</td>\n",
       "      <td>1498</td>\n",
       "      <td>0.7931</td>\n",
       "    </tr>\n",
       "    <tr>\n",
       "      <th>2593936</th>\n",
       "      <td>652456f8940af4</td>\n",
       "      <td>3aec0e67ea627d</td>\n",
       "      <td>e23346e33ac4c9</td>\n",
       "      <td>0</td>\n",
       "      <td>0</td>\n",
       "      <td>33.58</td>\n",
       "      <td>0</td>\n",
       "      <td>0</td>\n",
       "      <td>0</td>\n",
       "      <td>89</td>\n",
       "      <td>...</td>\n",
       "      <td>0</td>\n",
       "      <td>0.0</td>\n",
       "      <td>0</td>\n",
       "      <td>0.0</td>\n",
       "      <td>0</td>\n",
       "      <td>0</td>\n",
       "      <td>106.1</td>\n",
       "      <td>2</td>\n",
       "      <td>1446</td>\n",
       "      <td>0.0345</td>\n",
       "    </tr>\n",
       "  </tbody>\n",
       "</table>\n",
       "<p>5 rows × 29 columns</p>\n",
       "</div>"
      ],
      "text/plain": [
       "                     Id         groupId         matchId  assists  boosts  \\\n",
       "714128   2c1cc480990920  70d4154d5216db  195c5bd37a85dc        0       0   \n",
       "199973   c989c734b439d1  a8f84ddd3ee9eb  5845919df05838        0       0   \n",
       "4105138  ce86cce2206073  04748c80d36d1f  a7e407dde9f3db        0       0   \n",
       "3747925  ef75f2f1595316  85aab146f0ec7a  959aa80e79df42        2       5   \n",
       "2593936  652456f8940af4  3aec0e67ea627d  e23346e33ac4c9        0       0   \n",
       "\n",
       "         damageDealt  DBNOs  headshotKills  heals  killPlace  ...  revives  \\\n",
       "714128          0.00      0              0      0         74  ...        0   \n",
       "199973        233.60      3              0      0         26  ...        0   \n",
       "4105138         0.00      0              0      0         55  ...        0   \n",
       "3747925       254.80      1              1      2         28  ...        1   \n",
       "2593936        33.58      0              0      0         89  ...        0   \n",
       "\n",
       "         rideDistance  roadKills  swimDistance  teamKills vehicleDestroys  \\\n",
       "714128            0.0          0           0.0          1               0   \n",
       "199973            0.0          0           0.0          0               0   \n",
       "4105138           0.0          0           0.0          0               0   \n",
       "3747925        2282.0          0           0.0          0               0   \n",
       "2593936           0.0          0           0.0          0               0   \n",
       "\n",
       "         walkDistance  weaponsAcquired  winPoints  winPlacePerc  \n",
       "714128          784.7                4          0        0.2222  \n",
       "199973          292.0                1          0        0.3200  \n",
       "4105138        1938.0                4          0        0.5517  \n",
       "3747925        4361.0                8       1498        0.7931  \n",
       "2593936         106.1                2       1446        0.0345  \n",
       "\n",
       "[5 rows x 29 columns]"
      ]
     },
     "execution_count": 11,
     "metadata": {},
     "output_type": "execute_result"
    }
   ],
   "source": [
    "df_rand3 = df_train.reindex(np.random.permutation(df_train.shape[0]))\n",
    "df_rand3.head()"
   ]
  },
  {
   "cell_type": "markdown",
   "metadata": {},
   "source": [
    "### Preprocess the data for training, validation and testing"
   ]
  },
  {
   "cell_type": "code",
   "execution_count": 12,
   "metadata": {},
   "outputs": [],
   "source": [
    "X_train = df_rand3[['killPlace', 'walkDistance']].head(4000000)\n",
    "Y_train = df_rand3[['winPlacePerc']].head(4000000)\n",
    "X_val = df_rand3[['killPlace', 'walkDistance']].tail(446966)\n",
    "Y_val = df_rand3[['winPlacePerc']].tail(446966)\n",
    "X_test = df_test[['killPlace', 'walkDistance']]"
   ]
  },
  {
   "cell_type": "markdown",
   "metadata": {},
   "source": [
    "### Create the feature columns"
   ]
  },
  {
   "cell_type": "code",
   "execution_count": 13,
   "metadata": {},
   "outputs": [],
   "source": [
    "#help(tf.feature_column.numeric_column)"
   ]
  },
  {
   "cell_type": "code",
   "execution_count": 15,
   "metadata": {},
   "outputs": [],
   "source": [
    "killPlace_feat_col = tf.feature_column.numeric_column(key='killPlace')\n",
    "walkDist_feat_col = tf.feature_column.numeric_column(key='walkDistance')\n",
    "feat_cols = set([killPlace_feat_col, walkDist_feat_col])"
   ]
  },
  {
   "cell_type": "code",
   "execution_count": 16,
   "metadata": {},
   "outputs": [
    {
     "data": {
      "text/plain": [
       "{NumericColumn(key='killPlace', shape=(1,), default_value=None, dtype=tf.float32, normalizer_fn=None),\n",
       " NumericColumn(key='walkDistance', shape=(1,), default_value=None, dtype=tf.float32, normalizer_fn=None)}"
      ]
     },
     "execution_count": 16,
     "metadata": {},
     "output_type": "execute_result"
    }
   ],
   "source": [
    "feat_cols"
   ]
  },
  {
   "cell_type": "markdown",
   "metadata": {},
   "source": [
    "### Input Functions"
   ]
  },
  {
   "cell_type": "code",
   "execution_count": 17,
   "metadata": {},
   "outputs": [],
   "source": [
    "# Misc tests and learnings:\n",
    "#X_train.head()\n",
    "#X_np_train[:,0], is the correct way to access column values in an np array\n",
    "#.values returns an np nd array from a DataFrame\n",
    "#help(np.array)"
   ]
  },
  {
   "cell_type": "code",
   "execution_count": 32,
   "metadata": {},
   "outputs": [],
   "source": [
    "#help(tf.estimator.inputs.numpy_input_fn)"
   ]
  },
  {
   "cell_type": "markdown",
   "metadata": {},
   "source": [
    "numpy_input_fn\n",
    "There is only 2 arguments that are neccesary\n",
    "    1) x: takes a dictionary with keys as the column names and values as the column values\n",
    "    2) shuffle\n",
    "Returns:\n",
    "    An input function that would feed a dictionary of numpy arrays into the model"
   ]
  },
  {
   "cell_type": "code",
   "execution_count": 29,
   "metadata": {},
   "outputs": [],
   "source": [
    "# Train input func\n",
    "# convert to array\n",
    "X_np_train = np.array(X_train)\n",
    "x_train = {'killPlace': X_np_train[:,0], 'walkDistance': X_np_train[:,1]}\n",
    "train_input_fn = tf.estimator.inputs.numpy_input_fn(\n",
    "    x=x_train,\n",
    "    y=np.array(Y_train),\n",
    "    num_epochs=None,\n",
    "    shuffle=True)\n",
    "#num_epochs determines what? the passes that I do along the data?\n",
    "# if we set num_epochs to none it allows us to read as much data as we can from this input fn?\n",
    "# shuffle randomizes the data"
   ]
  },
  {
   "cell_type": "code",
   "execution_count": 33,
   "metadata": {},
   "outputs": [],
   "source": [
    "# train_input_fn()\n",
    "# We can see that it is a function that returns a an input function \n",
    "# type(train_input_fn)"
   ]
  },
  {
   "cell_type": "code",
   "execution_count": 34,
   "metadata": {},
   "outputs": [],
   "source": [
    "# Validation input func\n",
    "#X_val_np = X_val.values\n",
    "x_val_in = {'killPlace': X_val.values[:,0], 'walkDistance': X_val.values[:,1]}\n",
    "val_input_fn = tf.estimator.inputs.numpy_input_fn(\n",
    "    x=x_val_in,\n",
    "    y=np.array(Y_val),\n",
    "    num_epochs=1,\n",
    "    shuffle=False)"
   ]
  },
  {
   "cell_type": "code",
   "execution_count": 40,
   "metadata": {},
   "outputs": [],
   "source": [
    "# Prediction input function\n",
    "x_test_in = {'killPlace': X_test.values[:,0], 'walkDistance': X_test.values[:,1]}\n",
    "pred_input_fn = tf.estimator.inputs.numpy_input_fn(\n",
    "    x=x_test_in,\n",
    "    shuffle=False)"
   ]
  },
  {
   "cell_type": "code",
   "execution_count": 41,
   "metadata": {},
   "outputs": [],
   "source": [
    "#help(tf.estimator.DNNRegressor)"
   ]
  },
  {
   "cell_type": "code",
   "execution_count": 42,
   "metadata": {},
   "outputs": [],
   "source": [
    "# Timestamp for log folder\n",
    "s = strftime(\"%a_%d_%b_%Y_%H:%M\", gmtime())"
   ]
  },
  {
   "cell_type": "code",
   "execution_count": 43,
   "metadata": {},
   "outputs": [
    {
     "name": "stdout",
     "output_type": "stream",
     "text": [
      "INFO:tensorflow:Using default config.\n",
      "INFO:tensorflow:Using config: {'_model_dir': './logs/Sun_10_Mar_2019_23:52', '_tf_random_seed': None, '_save_summary_steps': 100, '_save_checkpoints_steps': None, '_save_checkpoints_secs': 600, '_session_config': allow_soft_placement: true\n",
      "graph_options {\n",
      "  rewrite_options {\n",
      "    meta_optimizer_iterations: ONE\n",
      "  }\n",
      "}\n",
      ", '_keep_checkpoint_max': 5, '_keep_checkpoint_every_n_hours': 10000, '_log_step_count_steps': 100, '_train_distribute': None, '_device_fn': None, '_protocol': None, '_eval_distribute': None, '_experimental_distribute': None, '_service': None, '_cluster_spec': <tensorflow.python.training.server_lib.ClusterSpec object at 0x107ade550>, '_task_type': 'worker', '_task_id': 0, '_global_id_in_cluster': 0, '_master': '', '_evaluation_master': '', '_is_chief': True, '_num_ps_replicas': 0, '_num_worker_replicas': 1}\n"
     ]
    }
   ],
   "source": [
    "# Create the Regressor Object of the tf.estimator.DNNRegressor Class\n",
    "regressor = tf.estimator.DNNRegressor(\n",
    "    feature_columns=[killPlace_feat_col, walkDist_feat_col],\n",
    "    hidden_units=[256],\n",
    "    model_dir='./logs/'+s,\n",
    "    optimizer=tf.train.ProximalAdagradOptimizer(\n",
    "        learning_rate=0.1,\n",
    "        l1_regularization_strength=0.001\n",
    "    )\n",
    ")"
   ]
  },
  {
   "cell_type": "code",
   "execution_count": 46,
   "metadata": {},
   "outputs": [
    {
     "name": "stdout",
     "output_type": "stream",
     "text": [
      "INFO:tensorflow:Calling model_fn.\n",
      "INFO:tensorflow:Done calling model_fn.\n",
      "INFO:tensorflow:Create CheckpointSaverHook.\n",
      "INFO:tensorflow:Graph was finalized.\n",
      "INFO:tensorflow:Restoring parameters from ./logs/Sun_10_Mar_2019_23:52/model.ckpt-2000\n",
      "INFO:tensorflow:Running local_init_op.\n",
      "INFO:tensorflow:Done running local_init_op.\n",
      "INFO:tensorflow:Saving checkpoints for 2000 into ./logs/Sun_10_Mar_2019_23:52/model.ckpt.\n",
      "INFO:tensorflow:loss = 10.897235, step = 2001\n",
      "INFO:tensorflow:global_step/sec: 470.983\n",
      "INFO:tensorflow:loss = 10.401742, step = 2101 (0.213 sec)\n",
      "INFO:tensorflow:global_step/sec: 644.732\n",
      "INFO:tensorflow:loss = 9.979822, step = 2201 (0.155 sec)\n",
      "INFO:tensorflow:global_step/sec: 561.675\n",
      "INFO:tensorflow:loss = 10.224878, step = 2301 (0.178 sec)\n",
      "INFO:tensorflow:global_step/sec: 577.654\n",
      "INFO:tensorflow:loss = 11.627276, step = 2401 (0.174 sec)\n",
      "INFO:tensorflow:global_step/sec: 722.611\n",
      "INFO:tensorflow:loss = 10.733566, step = 2501 (0.138 sec)\n",
      "INFO:tensorflow:global_step/sec: 627.738\n",
      "INFO:tensorflow:loss = 10.429459, step = 2601 (0.160 sec)\n",
      "INFO:tensorflow:global_step/sec: 592.33\n",
      "INFO:tensorflow:loss = 8.257458, step = 2701 (0.168 sec)\n",
      "INFO:tensorflow:global_step/sec: 541.415\n",
      "INFO:tensorflow:loss = 8.241865, step = 2801 (0.185 sec)\n",
      "INFO:tensorflow:global_step/sec: 536.213\n",
      "INFO:tensorflow:loss = 8.943405, step = 2901 (0.186 sec)\n",
      "INFO:tensorflow:Saving checkpoints for 3000 into ./logs/Sun_10_Mar_2019_23:52/model.ckpt.\n",
      "INFO:tensorflow:Loss for final step: 10.160715.\n",
      "INFO:tensorflow:Calling model_fn.\n",
      "INFO:tensorflow:Done calling model_fn.\n",
      "INFO:tensorflow:Starting evaluation at 2019-03-11T00:06:00Z\n",
      "INFO:tensorflow:Graph was finalized.\n",
      "INFO:tensorflow:Restoring parameters from ./logs/Sun_10_Mar_2019_23:52/model.ckpt-3000\n",
      "INFO:tensorflow:Running local_init_op.\n",
      "INFO:tensorflow:Done running local_init_op.\n",
      "INFO:tensorflow:Finished evaluation at 2019-03-11-00:06:04\n",
      "INFO:tensorflow:Saving dict for global step 3000: average_loss = 0.07358116, global_step = 3000, label/mean = 0.47258338, loss = 9.418178, prediction/mean = 0.42439163\n",
      "INFO:tensorflow:Saving 'checkpoint_path' summary for global step 3000: ./logs/Sun_10_Mar_2019_23:52/model.ckpt-3000\n",
      "{'average_loss': 0.07358116, 'label/mean': 0.47258338, 'loss': 9.418178, 'prediction/mean': 0.42439163, 'global_step': 3000}\n"
     ]
    }
   ],
   "source": [
    "# Train\n",
    "print_periods = 10\n",
    "#for i in range(print_periods)\n",
    "regressor.train(\n",
    "    input_fn=train_input_fn,\n",
    "    steps=1000\n",
    ")\n",
    "metrics = regressor.evaluate(\n",
    "        input_fn=val_input_fn,\n",
    "    )\n",
    "print(metrics)"
   ]
  },
  {
   "cell_type": "code",
   "execution_count": null,
   "metadata": {},
   "outputs": [],
   "source": [
    "#help(tf.estimator.DNNRegressor.train)"
   ]
  },
  {
   "cell_type": "code",
   "execution_count": 49,
   "metadata": {},
   "outputs": [
    {
     "name": "stdout",
     "output_type": "stream",
     "text": [
      "INFO:tensorflow:Calling model_fn.\n",
      "INFO:tensorflow:Done calling model_fn.\n",
      "INFO:tensorflow:Create CheckpointSaverHook.\n",
      "INFO:tensorflow:Graph was finalized.\n",
      "INFO:tensorflow:Restoring parameters from ./logs/Sun_10_Mar_2019_23:52/model.ckpt-4000\n",
      "INFO:tensorflow:Running local_init_op.\n",
      "INFO:tensorflow:Done running local_init_op.\n",
      "INFO:tensorflow:Saving checkpoints for 4000 into ./logs/Sun_10_Mar_2019_23:52/model.ckpt.\n",
      "INFO:tensorflow:loss = 7.7701907, step = 4001\n",
      "INFO:tensorflow:global_step/sec: 622.956\n",
      "INFO:tensorflow:loss = 11.164057, step = 4101 (0.161 sec)\n",
      "INFO:tensorflow:global_step/sec: 846.913\n",
      "INFO:tensorflow:loss = 8.495792, step = 4201 (0.118 sec)\n",
      "INFO:tensorflow:global_step/sec: 922.101\n",
      "INFO:tensorflow:loss = 8.732678, step = 4301 (0.108 sec)\n",
      "INFO:tensorflow:global_step/sec: 982.077\n",
      "INFO:tensorflow:loss = 5.232332, step = 4401 (0.103 sec)\n",
      "INFO:tensorflow:global_step/sec: 694.503\n",
      "INFO:tensorflow:loss = 9.369472, step = 4501 (0.143 sec)\n",
      "INFO:tensorflow:global_step/sec: 759.047\n",
      "INFO:tensorflow:loss = 9.623284, step = 4601 (0.133 sec)\n",
      "INFO:tensorflow:global_step/sec: 639.223\n",
      "INFO:tensorflow:loss = 9.74239, step = 4701 (0.156 sec)\n",
      "INFO:tensorflow:global_step/sec: 673.411\n",
      "INFO:tensorflow:loss = 7.348182, step = 4801 (0.148 sec)\n",
      "INFO:tensorflow:global_step/sec: 736.854\n",
      "INFO:tensorflow:loss = 5.071309, step = 4901 (0.138 sec)\n",
      "INFO:tensorflow:Saving checkpoints for 5000 into ./logs/Sun_10_Mar_2019_23:52/model.ckpt.\n",
      "WARNING:tensorflow:From /nfs/2018/j/jcruz-y-/Library/Python/3.7/lib/python/site-packages/tensorflow/python/training/saver.py:966: remove_checkpoint (from tensorflow.python.training.checkpoint_management) is deprecated and will be removed in a future version.\n",
      "Instructions for updating:\n",
      "Use standard file APIs to delete files with this prefix.\n",
      "INFO:tensorflow:Loss for final step: 6.4409847.\n",
      "INFO:tensorflow:Calling model_fn.\n",
      "INFO:tensorflow:Done calling model_fn.\n",
      "INFO:tensorflow:Starting evaluation at 2019-03-11T00:07:17Z\n",
      "INFO:tensorflow:Graph was finalized.\n",
      "INFO:tensorflow:Restoring parameters from ./logs/Sun_10_Mar_2019_23:52/model.ckpt-5000\n",
      "INFO:tensorflow:Running local_init_op.\n",
      "INFO:tensorflow:Done running local_init_op.\n",
      "INFO:tensorflow:Evaluation [200/2000]\n",
      "INFO:tensorflow:Evaluation [400/2000]\n",
      "INFO:tensorflow:Evaluation [600/2000]\n",
      "INFO:tensorflow:Evaluation [800/2000]\n",
      "INFO:tensorflow:Evaluation [1000/2000]\n",
      "INFO:tensorflow:Evaluation [1200/2000]\n",
      "INFO:tensorflow:Evaluation [1400/2000]\n",
      "INFO:tensorflow:Evaluation [1600/2000]\n",
      "INFO:tensorflow:Evaluation [1800/2000]\n",
      "INFO:tensorflow:Evaluation [2000/2000]\n",
      "INFO:tensorflow:Finished evaluation at 2019-03-11-00:07:20\n",
      "INFO:tensorflow:Saving dict for global step 5000: average_loss = 0.05868265, global_step = 5000, label/mean = 0.47248206, loss = 7.5113792, prediction/mean = 0.4425459\n",
      "INFO:tensorflow:Saving 'checkpoint_path' summary for global step 5000: ./logs/Sun_10_Mar_2019_23:52/model.ckpt-5000\n",
      "{'average_loss': 0.05868265, 'label/mean': 0.47248206, 'loss': 7.5113792, 'prediction/mean': 0.4425459, 'global_step': 5000}\n"
     ]
    }
   ],
   "source": [
    "regressor.train(\n",
    "    input_fn=train_input_fn,\n",
    "    steps=1000\n",
    ")\n",
    "metrics = regressor.evaluate(\n",
    "        input_fn=val_input_fn,\n",
    "        steps=2000\n",
    "    )\n",
    "print(metrics)"
   ]
  },
  {
   "cell_type": "code",
   "execution_count": null,
   "metadata": {},
   "outputs": [],
   "source": []
  }
 ],
 "metadata": {
  "kernelspec": {
   "display_name": "Python 3",
   "language": "python",
   "name": "python3"
  },
  "language_info": {
   "codemirror_mode": {
    "name": "ipython",
    "version": 3
   },
   "file_extension": ".py",
   "mimetype": "text/x-python",
   "name": "python",
   "nbconvert_exporter": "python",
   "pygments_lexer": "ipython3",
   "version": "3.7.0"
  }
 },
 "nbformat": 4,
 "nbformat_minor": 2
}
