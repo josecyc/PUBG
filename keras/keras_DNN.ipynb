{
 "cells": [
  {
   "cell_type": "code",
   "execution_count": 48,
   "metadata": {},
   "outputs": [],
   "source": [
    "import pandas as pd\n",
    "import numpy as np\n",
    "import tensorflow as tf\n",
    "from tensorflow.keras import layers\n",
    "from TrainValTensorBoard import TrainValTensorBoard"
   ]
  },
  {
   "cell_type": "code",
   "execution_count": 10,
   "metadata": {},
   "outputs": [],
   "source": [
    "df_train = pd.read_csv('../train_V2.csv')"
   ]
  },
  {
   "cell_type": "code",
   "execution_count": 5,
   "metadata": {},
   "outputs": [],
   "source": [
    "## DNN Regressor\n",
    "# Input Features: KillPlace, WalkDistance\n",
    "# Labels: WinPlacePerc [probability of 0-1]\n",
    "# Output: WinPlacePerc"
   ]
  },
  {
   "cell_type": "code",
   "execution_count": 7,
   "metadata": {},
   "outputs": [],
   "source": [
    "df_rand = df_train.sample(frac=1).reset_index(drop=True)"
   ]
  },
  {
   "cell_type": "code",
   "execution_count": 23,
   "metadata": {},
   "outputs": [
    {
     "data": {
      "text/html": [
       "<div>\n",
       "<style scoped>\n",
       "    .dataframe tbody tr th:only-of-type {\n",
       "        vertical-align: middle;\n",
       "    }\n",
       "\n",
       "    .dataframe tbody tr th {\n",
       "        vertical-align: top;\n",
       "    }\n",
       "\n",
       "    .dataframe thead th {\n",
       "        text-align: right;\n",
       "    }\n",
       "</style>\n",
       "<table border=\"1\" class=\"dataframe\">\n",
       "  <thead>\n",
       "    <tr style=\"text-align: right;\">\n",
       "      <th></th>\n",
       "      <th>Id</th>\n",
       "      <th>groupId</th>\n",
       "      <th>matchId</th>\n",
       "      <th>assists</th>\n",
       "      <th>boosts</th>\n",
       "      <th>damageDealt</th>\n",
       "      <th>DBNOs</th>\n",
       "      <th>headshotKills</th>\n",
       "      <th>heals</th>\n",
       "      <th>killPlace</th>\n",
       "      <th>...</th>\n",
       "      <th>revives</th>\n",
       "      <th>rideDistance</th>\n",
       "      <th>roadKills</th>\n",
       "      <th>swimDistance</th>\n",
       "      <th>teamKills</th>\n",
       "      <th>vehicleDestroys</th>\n",
       "      <th>walkDistance</th>\n",
       "      <th>weaponsAcquired</th>\n",
       "      <th>winPoints</th>\n",
       "      <th>winPlacePerc</th>\n",
       "    </tr>\n",
       "  </thead>\n",
       "  <tbody>\n",
       "    <tr>\n",
       "      <th>0</th>\n",
       "      <td>3c81d44c65d337</td>\n",
       "      <td>a50376edc00b97</td>\n",
       "      <td>0aec5fc9574170</td>\n",
       "      <td>0</td>\n",
       "      <td>1</td>\n",
       "      <td>84.46</td>\n",
       "      <td>0</td>\n",
       "      <td>0</td>\n",
       "      <td>3</td>\n",
       "      <td>54</td>\n",
       "      <td>...</td>\n",
       "      <td>0</td>\n",
       "      <td>1962.0</td>\n",
       "      <td>0</td>\n",
       "      <td>0.0</td>\n",
       "      <td>0</td>\n",
       "      <td>0</td>\n",
       "      <td>2279.000</td>\n",
       "      <td>5</td>\n",
       "      <td>0</td>\n",
       "      <td>0.6207</td>\n",
       "    </tr>\n",
       "    <tr>\n",
       "      <th>1</th>\n",
       "      <td>c8589e39ae190a</td>\n",
       "      <td>40d0b4b163518e</td>\n",
       "      <td>bfe4a048cc20a2</td>\n",
       "      <td>0</td>\n",
       "      <td>1</td>\n",
       "      <td>100.00</td>\n",
       "      <td>1</td>\n",
       "      <td>0</td>\n",
       "      <td>0</td>\n",
       "      <td>48</td>\n",
       "      <td>...</td>\n",
       "      <td>1</td>\n",
       "      <td>4737.0</td>\n",
       "      <td>0</td>\n",
       "      <td>0.0</td>\n",
       "      <td>0</td>\n",
       "      <td>0</td>\n",
       "      <td>1518.000</td>\n",
       "      <td>4</td>\n",
       "      <td>1513</td>\n",
       "      <td>0.7083</td>\n",
       "    </tr>\n",
       "    <tr>\n",
       "      <th>2</th>\n",
       "      <td>84f049f19bb7a6</td>\n",
       "      <td>ffdc2f12d22fdf</td>\n",
       "      <td>833b09018873ba</td>\n",
       "      <td>0</td>\n",
       "      <td>0</td>\n",
       "      <td>0.00</td>\n",
       "      <td>0</td>\n",
       "      <td>0</td>\n",
       "      <td>0</td>\n",
       "      <td>87</td>\n",
       "      <td>...</td>\n",
       "      <td>0</td>\n",
       "      <td>0.0</td>\n",
       "      <td>0</td>\n",
       "      <td>0.0</td>\n",
       "      <td>0</td>\n",
       "      <td>0</td>\n",
       "      <td>0.000</td>\n",
       "      <td>0</td>\n",
       "      <td>1471</td>\n",
       "      <td>0.0000</td>\n",
       "    </tr>\n",
       "    <tr>\n",
       "      <th>3</th>\n",
       "      <td>9111f7c01f956b</td>\n",
       "      <td>0de70ea56f3222</td>\n",
       "      <td>e7deafb61a0cd0</td>\n",
       "      <td>0</td>\n",
       "      <td>0</td>\n",
       "      <td>0.00</td>\n",
       "      <td>0</td>\n",
       "      <td>0</td>\n",
       "      <td>0</td>\n",
       "      <td>96</td>\n",
       "      <td>...</td>\n",
       "      <td>0</td>\n",
       "      <td>0.0</td>\n",
       "      <td>0</td>\n",
       "      <td>0.0</td>\n",
       "      <td>0</td>\n",
       "      <td>0</td>\n",
       "      <td>3.428</td>\n",
       "      <td>0</td>\n",
       "      <td>0</td>\n",
       "      <td>0.0000</td>\n",
       "    </tr>\n",
       "    <tr>\n",
       "      <th>4</th>\n",
       "      <td>39d5641fbd6272</td>\n",
       "      <td>813eaa51441089</td>\n",
       "      <td>671e9081502129</td>\n",
       "      <td>0</td>\n",
       "      <td>0</td>\n",
       "      <td>0.00</td>\n",
       "      <td>0</td>\n",
       "      <td>0</td>\n",
       "      <td>0</td>\n",
       "      <td>55</td>\n",
       "      <td>...</td>\n",
       "      <td>0</td>\n",
       "      <td>0.0</td>\n",
       "      <td>0</td>\n",
       "      <td>0.0</td>\n",
       "      <td>0</td>\n",
       "      <td>0</td>\n",
       "      <td>56.300</td>\n",
       "      <td>0</td>\n",
       "      <td>0</td>\n",
       "      <td>0.5625</td>\n",
       "    </tr>\n",
       "  </tbody>\n",
       "</table>\n",
       "<p>5 rows × 29 columns</p>\n",
       "</div>"
      ],
      "text/plain": [
       "               Id         groupId         matchId  assists  boosts  \\\n",
       "0  3c81d44c65d337  a50376edc00b97  0aec5fc9574170        0       1   \n",
       "1  c8589e39ae190a  40d0b4b163518e  bfe4a048cc20a2        0       1   \n",
       "2  84f049f19bb7a6  ffdc2f12d22fdf  833b09018873ba        0       0   \n",
       "3  9111f7c01f956b  0de70ea56f3222  e7deafb61a0cd0        0       0   \n",
       "4  39d5641fbd6272  813eaa51441089  671e9081502129        0       0   \n",
       "\n",
       "   damageDealt  DBNOs  headshotKills  heals  killPlace  ...  revives  \\\n",
       "0        84.46      0              0      3         54  ...        0   \n",
       "1       100.00      1              0      0         48  ...        1   \n",
       "2         0.00      0              0      0         87  ...        0   \n",
       "3         0.00      0              0      0         96  ...        0   \n",
       "4         0.00      0              0      0         55  ...        0   \n",
       "\n",
       "   rideDistance  roadKills  swimDistance  teamKills vehicleDestroys  \\\n",
       "0        1962.0          0           0.0          0               0   \n",
       "1        4737.0          0           0.0          0               0   \n",
       "2           0.0          0           0.0          0               0   \n",
       "3           0.0          0           0.0          0               0   \n",
       "4           0.0          0           0.0          0               0   \n",
       "\n",
       "   walkDistance  weaponsAcquired  winPoints  winPlacePerc  \n",
       "0      2279.000                5          0        0.6207  \n",
       "1      1518.000                4       1513        0.7083  \n",
       "2         0.000                0       1471        0.0000  \n",
       "3         3.428                0          0        0.0000  \n",
       "4        56.300                0          0        0.5625  \n",
       "\n",
       "[5 rows x 29 columns]"
      ]
     },
     "execution_count": 23,
     "metadata": {},
     "output_type": "execute_result"
    }
   ],
   "source": [
    "df_rand.head()"
   ]
  },
  {
   "cell_type": "code",
   "execution_count": 24,
   "metadata": {},
   "outputs": [],
   "source": [
    "X_train = df_rand[['killPlace', 'walkDistance']].head(4000000)"
   ]
  },
  {
   "cell_type": "code",
   "execution_count": 25,
   "metadata": {},
   "outputs": [],
   "source": [
    "Y_train = df_rand[['winPlacePerc']].head(4000000)"
   ]
  },
  {
   "cell_type": "code",
   "execution_count": 26,
   "metadata": {},
   "outputs": [],
   "source": [
    "X_val = df_rand[['killPlace', 'walkDistance']].tail(446966)\n",
    "Y_val = df_rand[['winPlacePerc']].tail(446966)"
   ]
  },
  {
   "cell_type": "code",
   "execution_count": 72,
   "metadata": {},
   "outputs": [],
   "source": [
    "visible = tf.keras.layers.Input(shape=(2,))"
   ]
  },
  {
   "cell_type": "code",
   "execution_count": 79,
   "metadata": {},
   "outputs": [],
   "source": [
    "dense1 = tf.keras.layers.Dense(units=256, activation='relu')(visible)\n",
    "dense2 = tf.keras.layers.Dense(units=128, activation='relu')(dense1)\n",
    "dropout1 = tf.keras.layers.Dropout(0.25)(dense2)\n",
    "output = tf.keras.layers.Dense(units=1, activation='relu')(dropout1)"
   ]
  },
  {
   "cell_type": "code",
   "execution_count": 80,
   "metadata": {},
   "outputs": [],
   "source": [
    "model = tf.keras.Model(inputs=visible, outputs=output)"
   ]
  },
  {
   "cell_type": "code",
   "execution_count": 81,
   "metadata": {},
   "outputs": [],
   "source": [
    "optimizer = tf.keras.optimizers.Adam(\n",
    "    lr=0.001,\n",
    "    beta_1=0.9,\n",
    "    beta_2=0.999,\n",
    "    epsilon=None,\n",
    "    decay=0.0,\n",
    "    amsgrad=False)"
   ]
  },
  {
   "cell_type": "code",
   "execution_count": 82,
   "metadata": {},
   "outputs": [],
   "source": [
    "MSEloss = tf.keras.losses.MeanSquaredError()"
   ]
  },
  {
   "cell_type": "code",
   "execution_count": 83,
   "metadata": {},
   "outputs": [],
   "source": [
    "model.compile(optimizer=optimizer , loss=MSEloss , metrics=['accuracy'])"
   ]
  },
  {
   "cell_type": "code",
   "execution_count": 84,
   "metadata": {},
   "outputs": [
    {
     "name": "stdout",
     "output_type": "stream",
     "text": [
      "Train on 4446966 samples, validate on 446966 samples\n",
      "Epoch 1/10\n",
      "4446966/4446966 [==============================] - 111s 25us/sample - loss: nan - acc: 0.0496 - val_loss: nan - val_acc: 0.0495\n",
      "Epoch 2/10\n",
      "4446966/4446966 [==============================] - 111s 25us/sample - loss: nan - acc: 0.0496 - val_loss: nan - val_acc: 0.0495\n",
      "Epoch 3/10\n",
      "4446966/4446966 [==============================] - 115s 26us/sample - loss: nan - acc: 0.0496 - val_loss: nan - val_acc: 0.0495\n",
      "Epoch 4/10\n",
      "4446966/4446966 [==============================] - 104s 23us/sample - loss: nan - acc: 0.0496 - val_loss: nan - val_acc: 0.0495\n",
      "Epoch 5/10\n",
      "4446966/4446966 [==============================] - 104s 23us/sample - loss: nan - acc: 0.0496 - val_loss: nan - val_acc: 0.0495\n",
      "Epoch 6/10\n",
      "4446966/4446966 [==============================] - 108s 24us/sample - loss: nan - acc: 0.0496 - val_loss: nan - val_acc: 0.0495\n",
      "Epoch 7/10\n",
      "4446966/4446966 [==============================] - 107s 24us/sample - loss: nan - acc: 0.0496 - val_loss: nan - val_acc: 0.0495\n",
      "Epoch 8/10\n",
      "4446966/4446966 [==============================] - 112s 25us/sample - loss: nan - acc: 0.0496 - val_loss: nan - val_acc: 0.0495\n",
      "Epoch 9/10\n",
      "4446966/4446966 [==============================] - 110s 25us/sample - loss: nan - acc: 0.0496 - val_loss: nan - val_acc: 0.0495\n",
      "Epoch 10/10\n",
      "4446966/4446966 [==============================] - 108s 24us/sample - loss: nan - acc: 0.0496 - val_loss: nan - val_acc: 0.0495\n"
     ]
    }
   ],
   "source": [
    "history = model.fit(x=X_train,\n",
    "                    y=Y_train,\n",
    "                    batch_size=80,\n",
    "                    epochs=10,\n",
    "                    validation_data=(X_val, Y_val),\n",
    "                    callbacks=[TrainValTensorBoard()])"
   ]
  },
  {
   "cell_type": "code",
   "execution_count": null,
   "metadata": {},
   "outputs": [],
   "source": []
  }
 ],
 "metadata": {
  "kernelspec": {
   "display_name": "Python 3",
   "language": "python",
   "name": "python3"
  },
  "language_info": {
   "codemirror_mode": {
    "name": "ipython",
    "version": 3
   },
   "file_extension": ".py",
   "mimetype": "text/x-python",
   "name": "python",
   "nbconvert_exporter": "python",
   "pygments_lexer": "ipython3",
   "version": "3.7.0"
  }
 },
 "nbformat": 4,
 "nbformat_minor": 2
}
